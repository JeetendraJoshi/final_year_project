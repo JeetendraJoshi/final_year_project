{
  "nbformat": 4,
  "nbformat_minor": 0,
  "metadata": {
    "colab": {
      "name": "KNN Development.ipynb ",
      "provenance": [],
      "machine_shape": "hm"
    },
    "kernelspec": {
      "name": "python3",
      "display_name": "Python 3"
    },
    "language_info": {
      "name": "python"
    },
    "gpuClass": "standard"
  },
  "cells": [
    {
      "cell_type": "markdown",
      "source": [
        "# Building ML Model\n"
      ],
      "metadata": {
        "id": "vTFasPaWnvCC"
      }
    },
    {
      "cell_type": "code",
      "execution_count": 1,
      "metadata": {
        "id": "Fi6j1Qem9hTS",
        "colab": {
          "base_uri": "https://localhost:8080/"
        },
        "outputId": "dc09ec10-f516-4111-c646-6535a991d878"
      },
      "outputs": [
        {
          "output_type": "stream",
          "name": "stdout",
          "text": [
            "\n"
          ]
        }
      ],
      "source": [
        "import numpy as np\n",
        "import sklearn\n",
        "import pandas as pd\n",
        "import tensorflow as tf\n",
        "device_name = tf.test.gpu_device_name()\n",
        "print(device_name)"
      ]
    },
    {
      "cell_type": "code",
      "source": [
        "import re\n",
        "import nltk\n",
        "nltk.download('wordnet')\n",
        "from nltk.stem import WordNetLemmatizer\n",
        "\n",
        "def Clean_Text(text):\n",
        "    \"\"\" Removes Stopwords from an input string\n",
        "    Parameters\n",
        "    ----------\n",
        "    text : string\n",
        "      Input Tweet\n",
        "    Returns\n",
        "    text : string\n",
        "      Preprocessed Tweet\n",
        "    -------\n",
        "    \"\"\"\n",
        "    text = str(text)\n",
        "    text = re.sub(r'\"','', text)\n",
        "    text = re.sub(r'&amp','', text)\n",
        "    text = re.sub(r'@[A-Za-z0-9_]+','@USER', text)#Remove's @'s\n",
        "    text = re.sub(r'RT[\\s]+','', text) # removes rt's\n",
        "    text = re.sub(r'http?:\\/\\/\\S+', 'HTTPURL', text)# removes hyperlinks\n",
        "    text = re.sub(r'https?:\\/\\/\\S+', 'HTTPURL', text)# removes hyperlinks\n",
        "    text = re.sub(r'[&8216;]+','',text)#removes apostrophes that are miscoded\n",
        "    text = re.sub(r'[&8217;]+','',text)#removes apostrophes that are miscoded\n",
        "    text = re.sub(r'[\\n]+','',text)#removes \\n's\n",
        "    text = re.sub(r'[0-9]+','',text)#removes all integers\n",
        "    text = re.sub(r'[!]+','',text)\n",
        "    text = re.sub(r':','',text)\n",
        "    text = re.sub(r',',' ',text)\n",
        "    text = re.sub(r'[.]+',' ',text)\n",
        "    text = re.sub(r' +', ' ', text)\n",
        "    text = \" \".join(word.strip() for word in re.split('#|_', text))\n",
        "    text = text.lower()\n",
        "    lemmatizer = WordNetLemmatizer()\n",
        "    text = lemmatizer.lemmatize(text)\n",
        "    return text\n",
        "\n",
        "\n",
        "def ChangeToBin_Davidson(integer):\n",
        "    \"\"\" Changes davidson dataset to binary encoding as opposed to tri-class, making offensive class part of the non-hate class\n",
        "    Parameters\n",
        "    ----------\n",
        "    integer : int\n",
        "      True labels for each of the samples in the training data\n",
        "    Returns\n",
        "    integer : int\n",
        "      True labels in binary form\n",
        "    -------\n",
        "    \"\"\"\n",
        "    if integer == 0:\n",
        "      integer = 1\n",
        "    else:\n",
        "      integer = 0\n",
        "    return integer\n",
        "\n"
      ],
      "metadata": {
        "id": "YBJAzbNy_hO-",
        "colab": {
          "base_uri": "https://localhost:8080/"
        },
        "outputId": "789ff093-3850-48f1-956e-52097a70b513"
      },
      "execution_count": 2,
      "outputs": [
        {
          "output_type": "stream",
          "name": "stderr",
          "text": [
            "[nltk_data] Downloading package wordnet to /root/nltk_data...\n",
            "[nltk_data]   Unzipping corpora/wordnet.zip.\n"
          ]
        }
      ]
    },
    {
      "cell_type": "code",
      "source": [
        "# Initial Configuration Variable\n",
        "datasetType = 1 "
      ],
      "metadata": {
        "id": "Zfg272VNCBKS"
      },
      "execution_count": 3,
      "outputs": []
    },
    {
      "cell_type": "code",
      "source": [
        "import tensorflow as tf\n",
        "import nltk\n",
        "\n",
        "\n",
        "from nltk.corpus import stopwords\n",
        "nltk.download('stopwords')\n",
        "nltk.download('omw-1.4')\n",
        "stop = set(stopwords.words(\"english\"))\n",
        "\n",
        "def remove_stopwords(text):\n",
        "  text = [word.lower() for word in text.split() if word.lower() not in stop]\n",
        "\n",
        "  return \" \".join(text)\n",
        "\n",
        "\n",
        "df_train = pd.read_csv(\"train_tweet.csv\")\n",
        "df_test = pd.read_csv(\"labeled_data.csv\")\n",
        "\n",
        "\n",
        "\n",
        "df_train['text'] = df_train['tweet'].apply(Clean_Text)\n",
        "df_train['text'] = df_train[\"text\"].map(remove_stopwords)\n",
        "\n",
        "\n",
        "df_train = df_train.drop([\"id\", \"tweet\"], axis = 1)\n",
        "\n",
        "\n",
        "\n",
        "df_test['text'] = df_test['tweet'].apply(Clean_Text)\n",
        "df_test['text'] = df_test[\"text\"].map(remove_stopwords)\n",
        "df_test[\"label\"] = df_test[\"class\"].apply(ChangeToBin_Davidson)\n",
        "\n",
        "\n",
        "\n",
        "df_test = df_test.drop(['index', 'count', 'hate_speech', 'offensive_language', 'neither','class', 'tweet'], axis = 1)\n",
        "\n",
        "\n",
        "frames = [df_train, df_test]\n",
        "dataset = pd.concat(frames)\n",
        "\n",
        "\n",
        "\n"
      ],
      "metadata": {
        "colab": {
          "base_uri": "https://localhost:8080/"
        },
        "id": "2pOvlBXt_iHH",
        "outputId": "69f8b93f-c7ca-44d5-cd1c-a182f3b5d3f7"
      },
      "execution_count": 6,
      "outputs": [
        {
          "output_type": "stream",
          "name": "stderr",
          "text": [
            "[nltk_data] Downloading package stopwords to /root/nltk_data...\n",
            "[nltk_data]   Package stopwords is already up-to-date!\n",
            "[nltk_data] Downloading package omw-1.4 to /root/nltk_data...\n",
            "[nltk_data]   Unzipping corpora/omw-1.4.zip.\n"
          ]
        }
      ]
    },
    {
      "cell_type": "code",
      "source": [
        "df_train.head()"
      ],
      "metadata": {
        "colab": {
          "base_uri": "https://localhost:8080/",
          "height": 206
        },
        "id": "jjJPsmbS_2KH",
        "outputId": "1e486d0f-8f3c-4b01-ef08-9c22d5cca724"
      },
      "execution_count": 7,
      "outputs": [
        {
          "output_type": "execute_result",
          "data": {
            "text/plain": [
              "   label                                               text\n",
              "0      0  @user father dysfunctional selfish drags kids ...\n",
              "1      0  @user @user thanks lyft credit can't use cause...\n",
              "2      0                                     bihday majesty\n",
              "3      0  model love u take u time urð± ðððð...\n",
              "4      0                      factsguide society motivation"
            ],
            "text/html": [
              "\n",
              "  <div id=\"df-0320d570-bd35-4520-ad9f-af58f3dd9f77\">\n",
              "    <div class=\"colab-df-container\">\n",
              "      <div>\n",
              "<style scoped>\n",
              "    .dataframe tbody tr th:only-of-type {\n",
              "        vertical-align: middle;\n",
              "    }\n",
              "\n",
              "    .dataframe tbody tr th {\n",
              "        vertical-align: top;\n",
              "    }\n",
              "\n",
              "    .dataframe thead th {\n",
              "        text-align: right;\n",
              "    }\n",
              "</style>\n",
              "<table border=\"1\" class=\"dataframe\">\n",
              "  <thead>\n",
              "    <tr style=\"text-align: right;\">\n",
              "      <th></th>\n",
              "      <th>label</th>\n",
              "      <th>text</th>\n",
              "    </tr>\n",
              "  </thead>\n",
              "  <tbody>\n",
              "    <tr>\n",
              "      <th>0</th>\n",
              "      <td>0</td>\n",
              "      <td>@user father dysfunctional selfish drags kids ...</td>\n",
              "    </tr>\n",
              "    <tr>\n",
              "      <th>1</th>\n",
              "      <td>0</td>\n",
              "      <td>@user @user thanks lyft credit can't use cause...</td>\n",
              "    </tr>\n",
              "    <tr>\n",
              "      <th>2</th>\n",
              "      <td>0</td>\n",
              "      <td>bihday majesty</td>\n",
              "    </tr>\n",
              "    <tr>\n",
              "      <th>3</th>\n",
              "      <td>0</td>\n",
              "      <td>model love u take u time urð± ðððð...</td>\n",
              "    </tr>\n",
              "    <tr>\n",
              "      <th>4</th>\n",
              "      <td>0</td>\n",
              "      <td>factsguide society motivation</td>\n",
              "    </tr>\n",
              "  </tbody>\n",
              "</table>\n",
              "</div>\n",
              "      <button class=\"colab-df-convert\" onclick=\"convertToInteractive('df-0320d570-bd35-4520-ad9f-af58f3dd9f77')\"\n",
              "              title=\"Convert this dataframe to an interactive table.\"\n",
              "              style=\"display:none;\">\n",
              "        \n",
              "  <svg xmlns=\"http://www.w3.org/2000/svg\" height=\"24px\"viewBox=\"0 0 24 24\"\n",
              "       width=\"24px\">\n",
              "    <path d=\"M0 0h24v24H0V0z\" fill=\"none\"/>\n",
              "    <path d=\"M18.56 5.44l.94 2.06.94-2.06 2.06-.94-2.06-.94-.94-2.06-.94 2.06-2.06.94zm-11 1L8.5 8.5l.94-2.06 2.06-.94-2.06-.94L8.5 2.5l-.94 2.06-2.06.94zm10 10l.94 2.06.94-2.06 2.06-.94-2.06-.94-.94-2.06-.94 2.06-2.06.94z\"/><path d=\"M17.41 7.96l-1.37-1.37c-.4-.4-.92-.59-1.43-.59-.52 0-1.04.2-1.43.59L10.3 9.45l-7.72 7.72c-.78.78-.78 2.05 0 2.83L4 21.41c.39.39.9.59 1.41.59.51 0 1.02-.2 1.41-.59l7.78-7.78 2.81-2.81c.8-.78.8-2.07 0-2.86zM5.41 20L4 18.59l7.72-7.72 1.47 1.35L5.41 20z\"/>\n",
              "  </svg>\n",
              "      </button>\n",
              "      \n",
              "  <style>\n",
              "    .colab-df-container {\n",
              "      display:flex;\n",
              "      flex-wrap:wrap;\n",
              "      gap: 12px;\n",
              "    }\n",
              "\n",
              "    .colab-df-convert {\n",
              "      background-color: #E8F0FE;\n",
              "      border: none;\n",
              "      border-radius: 50%;\n",
              "      cursor: pointer;\n",
              "      display: none;\n",
              "      fill: #1967D2;\n",
              "      height: 32px;\n",
              "      padding: 0 0 0 0;\n",
              "      width: 32px;\n",
              "    }\n",
              "\n",
              "    .colab-df-convert:hover {\n",
              "      background-color: #E2EBFA;\n",
              "      box-shadow: 0px 1px 2px rgba(60, 64, 67, 0.3), 0px 1px 3px 1px rgba(60, 64, 67, 0.15);\n",
              "      fill: #174EA6;\n",
              "    }\n",
              "\n",
              "    [theme=dark] .colab-df-convert {\n",
              "      background-color: #3B4455;\n",
              "      fill: #D2E3FC;\n",
              "    }\n",
              "\n",
              "    [theme=dark] .colab-df-convert:hover {\n",
              "      background-color: #434B5C;\n",
              "      box-shadow: 0px 1px 3px 1px rgba(0, 0, 0, 0.15);\n",
              "      filter: drop-shadow(0px 1px 2px rgba(0, 0, 0, 0.3));\n",
              "      fill: #FFFFFF;\n",
              "    }\n",
              "  </style>\n",
              "\n",
              "      <script>\n",
              "        const buttonEl =\n",
              "          document.querySelector('#df-0320d570-bd35-4520-ad9f-af58f3dd9f77 button.colab-df-convert');\n",
              "        buttonEl.style.display =\n",
              "          google.colab.kernel.accessAllowed ? 'block' : 'none';\n",
              "\n",
              "        async function convertToInteractive(key) {\n",
              "          const element = document.querySelector('#df-0320d570-bd35-4520-ad9f-af58f3dd9f77');\n",
              "          const dataTable =\n",
              "            await google.colab.kernel.invokeFunction('convertToInteractive',\n",
              "                                                     [key], {});\n",
              "          if (!dataTable) return;\n",
              "\n",
              "          const docLinkHtml = 'Like what you see? Visit the ' +\n",
              "            '<a target=\"_blank\" href=https://colab.research.google.com/notebooks/data_table.ipynb>data table notebook</a>'\n",
              "            + ' to learn more about interactive tables.';\n",
              "          element.innerHTML = '';\n",
              "          dataTable['output_type'] = 'display_data';\n",
              "          await google.colab.output.renderOutput(dataTable, element);\n",
              "          const docLink = document.createElement('div');\n",
              "          docLink.innerHTML = docLinkHtml;\n",
              "          element.appendChild(docLink);\n",
              "        }\n",
              "      </script>\n",
              "    </div>\n",
              "  </div>\n",
              "  "
            ]
          },
          "metadata": {},
          "execution_count": 7
        }
      ]
    },
    {
      "cell_type": "code",
      "source": [
        "hate_speech_test =[] \n",
        "non_hate_speech_test = []\n",
        "hate_speech_train = []\n",
        "non_hate_speech_train = []\n",
        "train_dataset = []\n",
        "\n",
        "\n",
        "if datasetType == 1: # 90:10 split\n",
        "  train_dataset = dataset.sample(frac = 0.9, random_state = 200)\n",
        "  test_dataset = dataset.drop(train_dataset.index)\n",
        "  hate_speech_test = test_dataset[test_dataset.label.eq(1)] # ensures balanced datasets\n",
        "  non_hate_speech_test = test_dataset[test_dataset.label.eq(0)]\n",
        "\n",
        "elif datasetType == 2:  # ensures balanced datasets\n",
        "  hate_speech_test = df_test[df_test.label.eq(1)] \n",
        "  non_hate_speech_test = df_test[df_test.label.eq(0)]\n",
        "  hate_speech_train = df_train[df_train.label.eq(1)]\n",
        "  non_hate_speech_train = df_train[df_train.label.eq(0)]\n",
        "\n",
        "  equal_non_hate_speech_train = non_hate_speech_train.sample(len(hate_speech_train))\n",
        "  frames = [hate_speech_train,equal_non_hate_speech_train]\n",
        "\n",
        "  train_dataset = pd.concat(frames)\n"
      ],
      "metadata": {
        "id": "VpFPrEB10UIl"
      },
      "execution_count": 11,
      "outputs": []
    },
    {
      "cell_type": "code",
      "source": [
        "from sklearn import preprocessing\n",
        "le = preprocessing.LabelEncoder() # encodes each tweet\n",
        "with tf.device(device_name):\n",
        "  \n",
        "\n",
        "  new_encoded_dataset = le.fit_transform(train_dataset[\"text\"])\n",
        "  encoded_text_test_hate_speech = le.fit_transform(hate_speech_test[\"text\"])\n",
        "  encoded_text_test_non_hate_speech = le.fit_transform(non_hate_speech_test[\"text\"])"
      ],
      "metadata": {
        "id": "cXJgpgfP-_Lg"
      },
      "execution_count": 12,
      "outputs": []
    },
    {
      "cell_type": "code",
      "source": [
        "from sklearn.neighbors import KNeighborsClassifier\n",
        "\n",
        "# creates model and ensures it fits the data\n",
        "model = KNeighborsClassifier(n_neighbors= 499, weights = 'uniform')\n",
        "model.fit(new_encoded_dataset.reshape(-1,1), train_dataset[\"label\"])\n"
      ],
      "metadata": {
        "colab": {
          "base_uri": "https://localhost:8080/"
        },
        "id": "ETZSOad1AMa4",
        "outputId": "ed72d2d4-17b5-4af3-e6cf-6261197edf98"
      },
      "execution_count": 13,
      "outputs": [
        {
          "output_type": "execute_result",
          "data": {
            "text/plain": [
              "KNeighborsClassifier(n_neighbors=499)"
            ]
          },
          "metadata": {},
          "execution_count": 13
        }
      ]
    },
    {
      "cell_type": "code",
      "source": [
        "y_pred = model.predict(encoded_text_test_hate_speech.reshape(-1,1))"
      ],
      "metadata": {
        "id": "pve65FykA2jh"
      },
      "execution_count": 14,
      "outputs": []
    },
    {
      "cell_type": "code",
      "source": [
        "from sklearn.metrics import accuracy_score # computes accuracy versus hate speech\n",
        "accuracy = accuracy_score(hate_speech_test[\"label\"], y_pred)\n",
        "print('Accuracy',accuracy)"
      ],
      "metadata": {
        "colab": {
          "base_uri": "https://localhost:8080/"
        },
        "id": "qdPJAda5A971",
        "outputId": "ada0090d-88ac-4a1b-c4b1-ad9f805b0847"
      },
      "execution_count": 15,
      "outputs": [
        {
          "output_type": "stream",
          "name": "stdout",
          "text": [
            "Accuracy 0.0\n"
          ]
        }
      ]
    },
    {
      "cell_type": "code",
      "source": [
        "y_pred = model.predict(encoded_text_test_non_hate_speech.reshape(-1,1))"
      ],
      "metadata": {
        "id": "Uq7FFM6B6pHx"
      },
      "execution_count": 16,
      "outputs": []
    },
    {
      "cell_type": "code",
      "source": [
        "from sklearn.metrics import accuracy_score # computes accuracy versus non hate speech set\n",
        "accuracy = accuracy_score(non_hate_speech_test[\"label\"], y_pred)\n",
        "print('Accuracy',accuracy)"
      ],
      "metadata": {
        "colab": {
          "base_uri": "https://localhost:8080/"
        },
        "outputId": "84503ed9-a1a8-4f12-962d-4d3b5c519031",
        "id": "sSchIMr26pHx"
      },
      "execution_count": 17,
      "outputs": [
        {
          "output_type": "stream",
          "name": "stdout",
          "text": [
            "Accuracy 1.0\n"
          ]
        }
      ]
    },
    {
      "cell_type": "markdown",
      "source": [
        "# Code for Testing Best K"
      ],
      "metadata": {
        "id": "Zmlr5l1hVjJR"
      }
    },
    {
      "cell_type": "code",
      "source": [
        "import sys\n",
        "from sklearn.neighbors import KNeighborsClassifier\n",
        "from sklearn.metrics import accuracy_score\n",
        "import math\n",
        "iterations = []\n",
        "hate_accuracies = []\n",
        "non_hate_accuracies = []\n",
        "\n",
        "#tests best K from 1 to 500 using previous steps\n",
        "with tf.device(device_name):\n",
        "  for i in range(1,500):\n",
        "    model = KNeighborsClassifier(n_neighbors=i, weights = \"distance\")\n",
        "    model.fit(new_encoded_dataset.reshape(-1,1), train_dataset[\"label\"])\n",
        "    y_pred = model.predict(encoded_text_test_hate_speech.reshape(-1,1))\n",
        "    hate_accuracy = accuracy_score(hate_speech_test[\"label\"], y_pred)\n",
        "    iterations.append(i)\n",
        "    hate_accuracies.append(hate_accuracy)\n",
        "    y_pred = model.predict(encoded_text_test_non_hate_speech.reshape(-1,1))\n",
        "    non_hate_accuracy = accuracy_score(non_hate_speech_test[\"label\"], y_pred)\n",
        "    non_hate_accuracies.append(non_hate_accuracy)\n",
        "\n",
        "\n",
        "\n",
        "\n"
      ],
      "metadata": {
        "id": "OUoLabg1EAEV"
      },
      "execution_count": null,
      "outputs": []
    },
    {
      "cell_type": "code",
      "source": [
        "from matplotlib import pyplot as plt\n",
        "from matplotlib.pyplot import figure\n",
        "\n",
        "# plots the hate speech and non-hate speech data\n",
        "\n",
        "print(\"Average Hate Speech Accuracy\", sum(hate_accuracies)/len(hate_accuracies))\n",
        "print(\"Average Non Hate Speech Accuracy\", sum(non_hate_accuracies)/len(non_hate_accuracies))\n",
        "\n",
        "figure(figsize=(16, 10), dpi=100)\n",
        "plt.plot(iterations, hate_accuracies, label = \"hate_speech\")\n",
        "plt.plot(iterations, non_hate_accuracies, label = \"non_hate_speech\")\n",
        "plt.legend()"
      ],
      "metadata": {
        "id": "DEJXdl2VEhpF",
        "colab": {
          "base_uri": "https://localhost:8080/",
          "height": 755
        },
        "outputId": "6f761d2a-238f-4d0e-9da0-0866fac4beea"
      },
      "execution_count": null,
      "outputs": [
        {
          "output_type": "stream",
          "name": "stdout",
          "text": [
            "Average Hate Speech Accuracy 0.620979020979013\n",
            "Average Non Hate Speech Accuracy 0.9133730141737707\n"
          ]
        },
        {
          "output_type": "execute_result",
          "data": {
            "text/plain": [
              "<matplotlib.legend.Legend at 0x7f789a1e74d0>"
            ]
          },
          "metadata": {},
          "execution_count": 43
        },
        {
          "output_type": "display_data",
          "data": {
            "text/plain": [
              "<Figure size 1600x1000 with 1 Axes>"
            ],
            "image/png": "[encoded data removed]"
          },
          "metadata": {
            "needs_background": "light"
          }
        }
      ]
    }
  ]
}